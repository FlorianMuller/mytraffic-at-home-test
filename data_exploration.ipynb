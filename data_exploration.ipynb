{
 "cells": [
  {
   "cell_type": "code",
   "execution_count": 1,
   "id": "scheduled-plastic",
   "metadata": {},
   "outputs": [],
   "source": [
    "# %load_ext autoreload\n",
    "# %autoreload 2\n",
    "\n",
    "import matplotlib.pyplot as plt\n",
    "# %matplotlib widget\n",
    "\n",
    "import pandas as pd\n",
    "pd.set_option(\"display.max_rows\", None)\n",
    "\n",
    "import numpy as np \n",
    "import seaborn as sns\n",
    "import datetime as dt"
   ]
  },
  {
   "cell_type": "code",
   "execution_count": 2,
   "id": "stunning-papua",
   "metadata": {},
   "outputs": [
    {
     "data": {
      "text/html": [
       "<div>\n",
       "<style scoped>\n",
       "    .dataframe tbody tr th:only-of-type {\n",
       "        vertical-align: middle;\n",
       "    }\n",
       "\n",
       "    .dataframe tbody tr th {\n",
       "        vertical-align: top;\n",
       "    }\n",
       "\n",
       "    .dataframe thead th {\n",
       "        text-align: right;\n",
       "    }\n",
       "</style>\n",
       "<table border=\"1\" class=\"dataframe\">\n",
       "  <thead>\n",
       "    <tr style=\"text-align: right;\">\n",
       "      <th></th>\n",
       "      <th>shopping_center_id</th>\n",
       "      <th>device_local_date</th>\n",
       "      <th>device_hash_id</th>\n",
       "    </tr>\n",
       "  </thead>\n",
       "  <tbody>\n",
       "    <tr>\n",
       "      <th>0</th>\n",
       "      <td>b43e9e4f</td>\n",
       "      <td>2019-09-14 10:00:25</td>\n",
       "      <td>6fdffac307</td>\n",
       "    </tr>\n",
       "    <tr>\n",
       "      <th>1</th>\n",
       "      <td>b43e9e4f</td>\n",
       "      <td>2019-09-14 17:13:15</td>\n",
       "      <td>386141ebd8</td>\n",
       "    </tr>\n",
       "    <tr>\n",
       "      <th>2</th>\n",
       "      <td>b43e9e4f</td>\n",
       "      <td>2019-09-14 09:07:06</td>\n",
       "      <td>b06242b848</td>\n",
       "    </tr>\n",
       "    <tr>\n",
       "      <th>3</th>\n",
       "      <td>b43e9e4f</td>\n",
       "      <td>2019-09-14 17:14:49</td>\n",
       "      <td>c13cc52e82</td>\n",
       "    </tr>\n",
       "    <tr>\n",
       "      <th>4</th>\n",
       "      <td>599cb959</td>\n",
       "      <td>2019-09-14 10:17:35</td>\n",
       "      <td>f339ddf999</td>\n",
       "    </tr>\n",
       "  </tbody>\n",
       "</table>\n",
       "</div>"
      ],
      "text/plain": [
       "  shopping_center_id   device_local_date device_hash_id\n",
       "0           b43e9e4f 2019-09-14 10:00:25     6fdffac307\n",
       "1           b43e9e4f 2019-09-14 17:13:15     386141ebd8\n",
       "2           b43e9e4f 2019-09-14 09:07:06     b06242b848\n",
       "3           b43e9e4f 2019-09-14 17:14:49     c13cc52e82\n",
       "4           599cb959 2019-09-14 10:17:35     f339ddf999"
      ]
     },
     "execution_count": 2,
     "metadata": {},
     "output_type": "execute_result"
    }
   ],
   "source": [
    "data = pd.read_csv(\"./at_home_test_data_study_centers_201909.csv.csv\")\n",
    "\n",
    "# Converting object type to datetime\n",
    "data[\"device_local_date\"] = pd.to_datetime(data[\"device_local_date\"])\n",
    "# Shortening shopping center name (to make plotting easier)\n",
    "data[\"shopping_center_id\"] = data.apply(lambda x: x[\"shopping_center_id\"][:8], axis=1)\n",
    "\n",
    "data.head()"
   ]
  },
  {
   "cell_type": "markdown",
   "id": "photographic-tsunami",
   "metadata": {},
   "source": [
    "# Data Exploration"
   ]
  },
  {
   "cell_type": "code",
   "execution_count": 3,
   "id": "advanced-premium",
   "metadata": {},
   "outputs": [
    {
     "name": "stderr",
     "output_type": "stream",
     "text": [
      "<ipython-input-3-2bb0b18689d4>:1: FutureWarning: Treating datetime data as categorical rather than numeric in `.describe` is deprecated and will be removed in a future version of pandas. Specify `datetime_is_numeric=True` to silence this warning and adopt the future behavior now.\n",
      "  data.describe()\n"
     ]
    },
    {
     "data": {
      "text/html": [
       "<div>\n",
       "<style scoped>\n",
       "    .dataframe tbody tr th:only-of-type {\n",
       "        vertical-align: middle;\n",
       "    }\n",
       "\n",
       "    .dataframe tbody tr th {\n",
       "        vertical-align: top;\n",
       "    }\n",
       "\n",
       "    .dataframe thead th {\n",
       "        text-align: right;\n",
       "    }\n",
       "</style>\n",
       "<table border=\"1\" class=\"dataframe\">\n",
       "  <thead>\n",
       "    <tr style=\"text-align: right;\">\n",
       "      <th></th>\n",
       "      <th>shopping_center_id</th>\n",
       "      <th>device_local_date</th>\n",
       "      <th>device_hash_id</th>\n",
       "    </tr>\n",
       "  </thead>\n",
       "  <tbody>\n",
       "    <tr>\n",
       "      <th>count</th>\n",
       "      <td>81838</td>\n",
       "      <td>81838</td>\n",
       "      <td>81838</td>\n",
       "    </tr>\n",
       "    <tr>\n",
       "      <th>unique</th>\n",
       "      <td>4</td>\n",
       "      <td>74167</td>\n",
       "      <td>5702</td>\n",
       "    </tr>\n",
       "    <tr>\n",
       "      <th>top</th>\n",
       "      <td>599cb959</td>\n",
       "      <td>2019-09-14 11:14:39</td>\n",
       "      <td>c0d915dfc1</td>\n",
       "    </tr>\n",
       "    <tr>\n",
       "      <th>freq</th>\n",
       "      <td>39827</td>\n",
       "      <td>5</td>\n",
       "      <td>2292</td>\n",
       "    </tr>\n",
       "    <tr>\n",
       "      <th>first</th>\n",
       "      <td>NaN</td>\n",
       "      <td>2019-09-01 00:19:53</td>\n",
       "      <td>NaN</td>\n",
       "    </tr>\n",
       "    <tr>\n",
       "      <th>last</th>\n",
       "      <td>NaN</td>\n",
       "      <td>2019-09-17 23:59:59</td>\n",
       "      <td>NaN</td>\n",
       "    </tr>\n",
       "  </tbody>\n",
       "</table>\n",
       "</div>"
      ],
      "text/plain": [
       "       shopping_center_id    device_local_date device_hash_id\n",
       "count               81838                81838          81838\n",
       "unique                  4                74167           5702\n",
       "top              599cb959  2019-09-14 11:14:39     c0d915dfc1\n",
       "freq                39827                    5           2292\n",
       "first                 NaN  2019-09-01 00:19:53            NaN\n",
       "last                  NaN  2019-09-17 23:59:59            NaN"
      ]
     },
     "execution_count": 3,
     "metadata": {},
     "output_type": "execute_result"
    }
   ],
   "source": [
    "data.describe()"
   ]
  },
  {
   "cell_type": "markdown",
   "id": "boxed-network",
   "metadata": {},
   "source": [
    "Conclusion:\n",
    "- No missing values(81 838 in each column)\n",
    "- 4 shopping center\n",
    "- 5702 client"
   ]
  },
  {
   "cell_type": "markdown",
   "id": "bf99c85c",
   "metadata": {},
   "source": [
    "## Dataset size"
   ]
  },
  {
   "cell_type": "markdown",
   "id": "3c13db63",
   "metadata": {},
   "source": [
    "### By shopping center"
   ]
  },
  {
   "cell_type": "code",
   "execution_count": 4,
   "id": "blessed-harvest",
   "metadata": {},
   "outputs": [
    {
     "data": {
      "text/html": [
       "<div>\n",
       "<style scoped>\n",
       "    .dataframe tbody tr th:only-of-type {\n",
       "        vertical-align: middle;\n",
       "    }\n",
       "\n",
       "    .dataframe tbody tr th {\n",
       "        vertical-align: top;\n",
       "    }\n",
       "\n",
       "    .dataframe thead th {\n",
       "        text-align: right;\n",
       "    }\n",
       "</style>\n",
       "<table border=\"1\" class=\"dataframe\">\n",
       "  <thead>\n",
       "    <tr style=\"text-align: right;\">\n",
       "      <th></th>\n",
       "      <th>device_local_date</th>\n",
       "      <th>device_hash_id</th>\n",
       "    </tr>\n",
       "    <tr>\n",
       "      <th>shopping_center_id</th>\n",
       "      <th></th>\n",
       "      <th></th>\n",
       "    </tr>\n",
       "  </thead>\n",
       "  <tbody>\n",
       "    <tr>\n",
       "      <th>0cd35523</th>\n",
       "      <td>11292</td>\n",
       "      <td>11292</td>\n",
       "    </tr>\n",
       "    <tr>\n",
       "      <th>599cb959</th>\n",
       "      <td>39827</td>\n",
       "      <td>39827</td>\n",
       "    </tr>\n",
       "    <tr>\n",
       "      <th>b43e9e4f</th>\n",
       "      <td>15080</td>\n",
       "      <td>15080</td>\n",
       "    </tr>\n",
       "    <tr>\n",
       "      <th>cb2d5bb6</th>\n",
       "      <td>15639</td>\n",
       "      <td>15639</td>\n",
       "    </tr>\n",
       "  </tbody>\n",
       "</table>\n",
       "</div>"
      ],
      "text/plain": [
       "                    device_local_date  device_hash_id\n",
       "shopping_center_id                                   \n",
       "0cd35523                        11292           11292\n",
       "599cb959                        39827           39827\n",
       "b43e9e4f                        15080           15080\n",
       "cb2d5bb6                        15639           15639"
      ]
     },
     "execution_count": 4,
     "metadata": {},
     "output_type": "execute_result"
    }
   ],
   "source": [
    "count_by_center = data.groupby(\"shopping_center_id\").count()\n",
    "count_by_center"
   ]
  },
  {
   "cell_type": "code",
   "execution_count": 5,
   "id": "e41e871b",
   "metadata": {},
   "outputs": [
    {
     "data": {
      "text/html": [
       "<div>\n",
       "<style scoped>\n",
       "    .dataframe tbody tr th:only-of-type {\n",
       "        vertical-align: middle;\n",
       "    }\n",
       "\n",
       "    .dataframe tbody tr th {\n",
       "        vertical-align: top;\n",
       "    }\n",
       "\n",
       "    .dataframe thead th {\n",
       "        text-align: right;\n",
       "    }\n",
       "</style>\n",
       "<table border=\"1\" class=\"dataframe\">\n",
       "  <thead>\n",
       "    <tr style=\"text-align: right;\">\n",
       "      <th></th>\n",
       "      <th>device_local_date</th>\n",
       "      <th>device_hash_id</th>\n",
       "    </tr>\n",
       "    <tr>\n",
       "      <th>shopping_center_id</th>\n",
       "      <th></th>\n",
       "      <th></th>\n",
       "    </tr>\n",
       "  </thead>\n",
       "  <tbody>\n",
       "    <tr>\n",
       "      <th>0cd35523</th>\n",
       "      <td>10639</td>\n",
       "      <td>1077</td>\n",
       "    </tr>\n",
       "    <tr>\n",
       "      <th>599cb959</th>\n",
       "      <td>37181</td>\n",
       "      <td>2417</td>\n",
       "    </tr>\n",
       "    <tr>\n",
       "      <th>b43e9e4f</th>\n",
       "      <td>14459</td>\n",
       "      <td>1024</td>\n",
       "    </tr>\n",
       "    <tr>\n",
       "      <th>cb2d5bb6</th>\n",
       "      <td>14659</td>\n",
       "      <td>1334</td>\n",
       "    </tr>\n",
       "  </tbody>\n",
       "</table>\n",
       "</div>"
      ],
      "text/plain": [
       "                    device_local_date  device_hash_id\n",
       "shopping_center_id                                   \n",
       "0cd35523                        10639            1077\n",
       "599cb959                        37181            2417\n",
       "b43e9e4f                        14459            1024\n",
       "cb2d5bb6                        14659            1334"
      ]
     },
     "execution_count": 5,
     "metadata": {},
     "output_type": "execute_result"
    }
   ],
   "source": [
    "unique_by_center = data.groupby(\"shopping_center_id\").nunique()\n",
    "unique_by_center"
   ]
  },
  {
   "cell_type": "code",
   "execution_count": 6,
   "id": "manual-software",
   "metadata": {},
   "outputs": [
    {
     "data": {
      "image/png": "[encoded data removed]",
      "text/plain": [
       "<Figure size 432x288 with 1 Axes>"
      ]
     },
     "metadata": {
      "needs_background": "light"
     },
     "output_type": "display_data"
    }
   ],
   "source": [
    "plt.bar(count_by_center.index, unique_by_center[\"device_hash_id\"])\n",
    "plt.title(\"Number of unique devices by shopping center\")\n",
    "plt.show()"
   ]
  },
  {
   "cell_type": "code",
   "execution_count": 7,
   "id": "d448849e",
   "metadata": {},
   "outputs": [
    {
     "data": {
      "image/png": "[encoded data removed]",
      "text/plain": [
       "<Figure size 432x288 with 1 Axes>"
      ]
     },
     "metadata": {
      "needs_background": "light"
     },
     "output_type": "display_data"
    }
   ],
   "source": [
    "plt.bar(count_by_center.index, count_by_center[\"device_local_date\"], align='center')\n",
    "plt.title(\"Number of ping per shopping center\")\n",
    "plt.show()"
   ]
  },
  {
   "cell_type": "code",
   "execution_count": 8,
   "id": "c645d9ea",
   "metadata": {},
   "outputs": [
    {
     "data": {
      "image/png": "[encoded data removed]",
      "text/plain": [
       "<Figure size 432x288 with 1 Axes>"
      ]
     },
     "metadata": {
      "needs_background": "light"
     },
     "output_type": "display_data"
    }
   ],
   "source": [
    "fig, ax = plt.subplots()\n",
    "bar_width = 0.35\n",
    "index = np.arange(len(count_by_center))\n",
    "\n",
    "device_nbr_plot = ax.bar(index, unique_by_center[\"device_hash_id\"], bar_width, label=\"Unique device mumber\")\n",
    "ping_nbr_plot = ax.bar(index + bar_width, count_by_center[\"device_local_date\"], bar_width, label=\"Ping number\")\n",
    "\n",
    "ax.legend()\n",
    "fig.tight_layout()\n",
    "plt.show()"
   ]
  },
  {
   "cell_type": "markdown",
   "id": "8b867ebc",
   "metadata": {},
   "source": [
    "Conclusion\n",
    "- One of the commercial center (`599cb959-...`) has 2 times more unique client and around 4 times more pings than the 3 other"
   ]
  },
  {
   "cell_type": "markdown",
   "id": "e9b9e14a",
   "metadata": {},
   "source": [
    "### In time"
   ]
  },
  {
   "cell_type": "code",
   "execution_count": 9,
   "id": "c3ae88e7",
   "metadata": {},
   "outputs": [
    {
     "name": "stdout",
     "output_type": "stream",
     "text": [
      "first date:  2019-09-01 00:19:53\n",
      "last date:  2019-09-17 23:59:59\n",
      "range:  16 days 23:40:06\n"
     ]
    }
   ],
   "source": [
    "print(\"first date: \", data[\"device_local_date\"].min())\n",
    "print(\"last date: \", data[\"device_local_date\"].max())\n",
    "print(\"range: \", data[\"device_local_date\"].max() - data[\"device_local_date\"].min())"
   ]
  },
  {
   "cell_type": "markdown",
   "id": "e38ff76a",
   "metadata": {},
   "source": [
    "Conclusion:\n",
    "\n",
    "- 17 days of data (from 1 to 17 september 2019 (included))\n",
    "- 2 full weeks plus one sunday, one monday and one thursday"
   ]
  },
  {
   "cell_type": "markdown",
   "id": "75ccc561",
   "metadata": {},
   "source": [
    "### By device"
   ]
  },
  {
   "cell_type": "code",
   "execution_count": 10,
   "id": "625a5409",
   "metadata": {},
   "outputs": [
    {
     "data": {
      "text/plain": [
       "count    5702.000000\n",
       "mean       14.352508\n",
       "std        54.092743\n",
       "min         1.000000\n",
       "25%         2.000000\n",
       "50%         5.000000\n",
       "75%        12.000000\n",
       "max      2292.000000\n",
       "Name: device_local_date, dtype: float64"
      ]
     },
     "execution_count": 10,
     "metadata": {},
     "output_type": "execute_result"
    }
   ],
   "source": [
    "count_by_device = data.groupby(\"device_hash_id\").count()\n",
    "count_by_device[\"device_local_date\"].describe()"
   ]
  },
  {
   "cell_type": "markdown",
   "id": "18fd28bc",
   "metadata": {},
   "source": [
    "Conclusion:\n",
    "- Each device has pinged 5 times in general (median)\n",
    "- One device has pinged more than 2000 times, it's weird. Maybe a device always at the shopping center ? Or someone who work there ?\n",
    "\n",
    "    => I need to investigate these outliers"
   ]
  },
  {
   "cell_type": "markdown",
   "id": "cd8df68c",
   "metadata": {},
   "source": [
    "## Duplicate pings"
   ]
  },
  {
   "cell_type": "code",
   "execution_count": 11,
   "id": "aa0187cc",
   "metadata": {},
   "outputs": [
    {
     "data": {
      "text/plain": [
       "count    5702.000000\n",
       "mean       13.757980\n",
       "std        53.250936\n",
       "min         1.000000\n",
       "25%         2.000000\n",
       "50%         5.000000\n",
       "75%        12.000000\n",
       "max      2292.000000\n",
       "Name: device_local_date, dtype: float64"
      ]
     },
     "execution_count": 11,
     "metadata": {},
     "output_type": "execute_result"
    }
   ],
   "source": [
    "unique_by_device = data.groupby(\"device_hash_id\").nunique()\n",
    "unique_by_device[\"device_local_date\"].describe()"
   ]
  },
  {
   "cell_type": "code",
   "execution_count": 12,
   "id": "551d2abb",
   "metadata": {},
   "outputs": [
    {
     "name": "stdout",
     "output_type": "stream",
     "text": [
      "Sum of all ping time: 81838\n",
      "Sum of unique ping time by device: 78448\n"
     ]
    }
   ],
   "source": [
    "print(\"Sum of all ping time:\", count_by_device[\"device_local_date\"].sum())\n",
    "print(\"Sum of unique ping time by device:\", unique_by_device[\"device_local_date\"].sum())"
   ]
  },
  {
   "cell_type": "markdown",
   "id": "2ac6d395",
   "metadata": {},
   "source": [
    "Conclusion:\n",
    "- The sum is different: somme device ping multiple time at the same time ? Or ping 2 detector at the same time ?\n",
    "  \n",
    "  => Maybe I should remove the duplicates ?"
   ]
  },
  {
   "cell_type": "code",
   "execution_count": 13,
   "id": "74c21a9c",
   "metadata": {},
   "outputs": [
    {
     "data": {
      "text/html": [
       "<div>\n",
       "<style scoped>\n",
       "    .dataframe tbody tr th:only-of-type {\n",
       "        vertical-align: middle;\n",
       "    }\n",
       "\n",
       "    .dataframe tbody tr th {\n",
       "        vertical-align: top;\n",
       "    }\n",
       "\n",
       "    .dataframe thead th {\n",
       "        text-align: right;\n",
       "    }\n",
       "</style>\n",
       "<table border=\"1\" class=\"dataframe\">\n",
       "  <thead>\n",
       "    <tr style=\"text-align: right;\">\n",
       "      <th></th>\n",
       "      <th>shopping_center_id</th>\n",
       "      <th>device_local_date</th>\n",
       "      <th>device_hash_id</th>\n",
       "    </tr>\n",
       "  </thead>\n",
       "  <tbody>\n",
       "    <tr>\n",
       "      <th>114</th>\n",
       "      <td>599cb959</td>\n",
       "      <td>2019-09-02 09:12:25</td>\n",
       "      <td>296f6e87f5</td>\n",
       "    </tr>\n",
       "    <tr>\n",
       "      <th>119</th>\n",
       "      <td>599cb959</td>\n",
       "      <td>2019-09-02 09:12:25</td>\n",
       "      <td>296f6e87f5</td>\n",
       "    </tr>\n",
       "  </tbody>\n",
       "</table>\n",
       "</div>"
      ],
      "text/plain": [
       "    shopping_center_id   device_local_date device_hash_id\n",
       "114           599cb959 2019-09-02 09:12:25     296f6e87f5\n",
       "119           599cb959 2019-09-02 09:12:25     296f6e87f5"
      ]
     },
     "execution_count": 13,
     "metadata": {},
     "output_type": "execute_result"
    }
   ],
   "source": [
    "# One duplicate exemple\n",
    "data[(data[\"device_hash_id\"] == \"296f6e87f5\") & (data[\"device_local_date\"] == dt.datetime.fromisoformat(\"2019-09-02 09:12:25\"))]"
   ]
  },
  {
   "cell_type": "code",
   "execution_count": 14,
   "id": "0f090283",
   "metadata": {},
   "outputs": [
    {
     "data": {
      "text/plain": [
       "3390"
      ]
     },
     "execution_count": 14,
     "metadata": {},
     "output_type": "execute_result"
    }
   ],
   "source": [
    "data.duplicated().sum()"
   ]
  },
  {
   "cell_type": "code",
   "execution_count": 15,
   "id": "17ccec0f",
   "metadata": {},
   "outputs": [],
   "source": [
    "assert count_by_device[\"device_local_date\"].sum() - data.duplicated().sum() == unique_by_device[\"device_local_date\"].sum()"
   ]
  },
  {
   "cell_type": "markdown",
   "id": "9aec023e",
   "metadata": {},
   "source": [
    "Conclusion:\n",
    "- There is 3390 perfect duplicate\n",
    "  \n",
    "  => I should remove them"
   ]
  },
  {
   "cell_type": "code",
   "execution_count": 16,
   "id": "4d820975",
   "metadata": {},
   "outputs": [
    {
     "name": "stdout",
     "output_type": "stream",
     "text": [
      "before 81838\n",
      "after 78448\n"
     ]
    }
   ],
   "source": [
    "print(\"before\", len(data.index))\n",
    "\n",
    "# REMOVING DUPLICATES\n",
    "duplicate = data[data.duplicated()]\n",
    "data = data.drop_duplicates()\n",
    "\n",
    "print(\"after\", len(data.index))"
   ]
  },
  {
   "cell_type": "code",
   "execution_count": 17,
   "id": "e3d272a7",
   "metadata": {},
   "outputs": [
    {
     "data": {
      "text/html": [
       "<div>\n",
       "<style scoped>\n",
       "    .dataframe tbody tr th:only-of-type {\n",
       "        vertical-align: middle;\n",
       "    }\n",
       "\n",
       "    .dataframe tbody tr th {\n",
       "        vertical-align: top;\n",
       "    }\n",
       "\n",
       "    .dataframe thead th {\n",
       "        text-align: right;\n",
       "    }\n",
       "</style>\n",
       "<table border=\"1\" class=\"dataframe\">\n",
       "  <thead>\n",
       "    <tr style=\"text-align: right;\">\n",
       "      <th></th>\n",
       "      <th>device_local_date</th>\n",
       "      <th>device_hash_id</th>\n",
       "    </tr>\n",
       "    <tr>\n",
       "      <th>shopping_center_id</th>\n",
       "      <th></th>\n",
       "      <th></th>\n",
       "    </tr>\n",
       "  </thead>\n",
       "  <tbody>\n",
       "    <tr>\n",
       "      <th>0cd35523</th>\n",
       "      <td>567</td>\n",
       "      <td>567</td>\n",
       "    </tr>\n",
       "    <tr>\n",
       "      <th>599cb959</th>\n",
       "      <td>1509</td>\n",
       "      <td>1509</td>\n",
       "    </tr>\n",
       "    <tr>\n",
       "      <th>b43e9e4f</th>\n",
       "      <td>482</td>\n",
       "      <td>482</td>\n",
       "    </tr>\n",
       "    <tr>\n",
       "      <th>cb2d5bb6</th>\n",
       "      <td>832</td>\n",
       "      <td>832</td>\n",
       "    </tr>\n",
       "  </tbody>\n",
       "</table>\n",
       "</div>"
      ],
      "text/plain": [
       "                    device_local_date  device_hash_id\n",
       "shopping_center_id                                   \n",
       "0cd35523                          567             567\n",
       "599cb959                         1509            1509\n",
       "b43e9e4f                          482             482\n",
       "cb2d5bb6                          832             832"
      ]
     },
     "execution_count": 17,
     "metadata": {},
     "output_type": "execute_result"
    }
   ],
   "source": [
    "duplicate.groupby(\"shopping_center_id\").count()"
   ]
  },
  {
   "cell_type": "code",
   "execution_count": 18,
   "id": "a1f92382",
   "metadata": {},
   "outputs": [
    {
     "data": {
      "text/html": [
       "<div>\n",
       "<style scoped>\n",
       "    .dataframe tbody tr th:only-of-type {\n",
       "        vertical-align: middle;\n",
       "    }\n",
       "\n",
       "    .dataframe tbody tr th {\n",
       "        vertical-align: top;\n",
       "    }\n",
       "\n",
       "    .dataframe thead th {\n",
       "        text-align: right;\n",
       "    }\n",
       "</style>\n",
       "<table border=\"1\" class=\"dataframe\">\n",
       "  <thead>\n",
       "    <tr style=\"text-align: right;\">\n",
       "      <th></th>\n",
       "      <th>center_name</th>\n",
       "      <th>unique_ping</th>\n",
       "      <th>duplicate_ping</th>\n",
       "      <th>percentage_duplicate</th>\n",
       "    </tr>\n",
       "  </thead>\n",
       "  <tbody>\n",
       "    <tr>\n",
       "      <th>0</th>\n",
       "      <td>b43e9e4f</td>\n",
       "      <td>14598</td>\n",
       "      <td>482</td>\n",
       "      <td>3.196286</td>\n",
       "    </tr>\n",
       "    <tr>\n",
       "      <th>1</th>\n",
       "      <td>599cb959</td>\n",
       "      <td>38318</td>\n",
       "      <td>1509</td>\n",
       "      <td>3.788887</td>\n",
       "    </tr>\n",
       "    <tr>\n",
       "      <th>2</th>\n",
       "      <td>0cd35523</td>\n",
       "      <td>10725</td>\n",
       "      <td>567</td>\n",
       "      <td>5.021254</td>\n",
       "    </tr>\n",
       "    <tr>\n",
       "      <th>3</th>\n",
       "      <td>cb2d5bb6</td>\n",
       "      <td>14807</td>\n",
       "      <td>832</td>\n",
       "      <td>5.320033</td>\n",
       "    </tr>\n",
       "  </tbody>\n",
       "</table>\n",
       "</div>"
      ],
      "text/plain": [
       "  center_name  unique_ping  duplicate_ping  percentage_duplicate\n",
       "0    b43e9e4f        14598             482              3.196286\n",
       "1    599cb959        38318            1509              3.788887\n",
       "2    0cd35523        10725             567              5.021254\n",
       "3    cb2d5bb6        14807             832              5.320033"
      ]
     },
     "execution_count": 18,
     "metadata": {},
     "output_type": "execute_result"
    }
   ],
   "source": [
    "# Does one center has more duplicate ?\n",
    "\n",
    "data_by_center = data.groupby(\"shopping_center_id\")\n",
    "duplicate_by_center = duplicate.groupby(\"shopping_center_id\")\n",
    "\n",
    "df_data = {\"center_name\": [], \"unique_ping\": [], \"duplicate_ping\": [], \"percentage_duplicate\": []}\n",
    "for center_name in data[\"shopping_center_id\"].unique():\n",
    "    df_data[\"center_name\"].append(center_name)\n",
    "    df_data[\"unique_ping\"].append(len(data_by_center.get_group(center_name).index))\n",
    "    df_data[\"duplicate_ping\"].append(len(duplicate_by_center.get_group(center_name).index))\n",
    "    df_data[\"percentage_duplicate\"].append(df_data[\"duplicate_ping\"][-1] / (df_data[\"unique_ping\"][-1] + df_data[\"duplicate_ping\"][-1]) * 100)\n",
    "\n",
    "duplicate_proportion = pd.DataFrame(df_data)\n",
    "duplicate_proportion"
   ]
  },
  {
   "cell_type": "markdown",
   "id": "30a32d8d",
   "metadata": {},
   "source": [
    "Conclusion:\n",
    "- There is between 3 to 5% of duplicated ping in each shopping center. It's not a problem specific to one shopping center."
   ]
  },
  {
   "cell_type": "markdown",
   "id": "33900bbd",
   "metadata": {},
   "source": [
    "## First time repartition"
   ]
  },
  {
   "cell_type": "code",
   "execution_count": 19,
   "id": "c2d7215a",
   "metadata": {},
   "outputs": [
    {
     "data": {
      "text/html": [
       "<div>\n",
       "<style scoped>\n",
       "    .dataframe tbody tr th:only-of-type {\n",
       "        vertical-align: middle;\n",
       "    }\n",
       "\n",
       "    .dataframe tbody tr th {\n",
       "        vertical-align: top;\n",
       "    }\n",
       "\n",
       "    .dataframe thead th {\n",
       "        text-align: right;\n",
       "    }\n",
       "</style>\n",
       "<table border=\"1\" class=\"dataframe\">\n",
       "  <thead>\n",
       "    <tr style=\"text-align: right;\">\n",
       "      <th></th>\n",
       "      <th>shopping_center_id</th>\n",
       "      <th>device_local_date</th>\n",
       "      <th>device_hash_id</th>\n",
       "      <th>ping_hour</th>\n",
       "      <th>ping_weekday</th>\n",
       "    </tr>\n",
       "  </thead>\n",
       "  <tbody>\n",
       "    <tr>\n",
       "      <th>0</th>\n",
       "      <td>b43e9e4f</td>\n",
       "      <td>2019-09-14 10:00:25</td>\n",
       "      <td>6fdffac307</td>\n",
       "      <td>10</td>\n",
       "      <td>5</td>\n",
       "    </tr>\n",
       "    <tr>\n",
       "      <th>1</th>\n",
       "      <td>b43e9e4f</td>\n",
       "      <td>2019-09-14 17:13:15</td>\n",
       "      <td>386141ebd8</td>\n",
       "      <td>17</td>\n",
       "      <td>5</td>\n",
       "    </tr>\n",
       "    <tr>\n",
       "      <th>2</th>\n",
       "      <td>b43e9e4f</td>\n",
       "      <td>2019-09-14 09:07:06</td>\n",
       "      <td>b06242b848</td>\n",
       "      <td>9</td>\n",
       "      <td>5</td>\n",
       "    </tr>\n",
       "  </tbody>\n",
       "</table>\n",
       "</div>"
      ],
      "text/plain": [
       "  shopping_center_id   device_local_date device_hash_id  ping_hour  \\\n",
       "0           b43e9e4f 2019-09-14 10:00:25     6fdffac307         10   \n",
       "1           b43e9e4f 2019-09-14 17:13:15     386141ebd8         17   \n",
       "2           b43e9e4f 2019-09-14 09:07:06     b06242b848          9   \n",
       "\n",
       "   ping_weekday  \n",
       "0             5  \n",
       "1             5  \n",
       "2             5  "
      ]
     },
     "execution_count": 19,
     "metadata": {},
     "output_type": "execute_result"
    }
   ],
   "source": [
    "data[\"ping_hour\"] = data[\"device_local_date\"].dt.hour\n",
    "data[\"ping_weekday\"] = data[\"device_local_date\"].dt.weekday\n",
    "data.head(3)"
   ]
  },
  {
   "cell_type": "code",
   "execution_count": 20,
   "id": "3c7a75b0",
   "metadata": {},
   "outputs": [],
   "source": [
    "def plot_ping_in_time(df):\n",
    "    grid = sns.FacetGrid(df, row=\"shopping_center_id\", col=\"ping_weekday\", margin_titles=True)\n",
    "    grid.map(sns.histplot, \"ping_hour\", binwidth=1, binrange=(0, 24))\n",
    "    return grid"
   ]
  },
  {
   "cell_type": "code",
   "execution_count": 21,
   "id": "45914e38",
   "metadata": {},
   "outputs": [
    {
     "data": {
      "image/png": "[encoded data removed]",
      "text/plain": [
       "<Figure size 1512x864 with 28 Axes>"
      ]
     },
     "metadata": {
      "needs_background": "light"
     },
     "output_type": "display_data"
    }
   ],
   "source": [
    "plot_ping_in_time(data)\n",
    "plt.show()"
   ]
  },
  {
   "cell_type": "markdown",
   "id": "43a38aea",
   "metadata": {},
   "source": [
    "Conclusion:\n",
    "- We have data for each day of the weak, for each shopping center\n",
    "- Aside for `0cd35523` the sunday, maybe it's closed ?\n",
    "- The first 3 shopping center have less visit the sunday (are they closed ?)\n",
    "- The 4th one (`cb2d5bb6`) doesn't have this. He must be openned every day, including sunday"
   ]
  },
  {
   "cell_type": "markdown",
   "id": "111fead8",
   "metadata": {},
   "source": [
    "## Searching for outliers devices (ones that ping a lot)"
   ]
  },
  {
   "cell_type": "markdown",
   "id": "8783c166",
   "metadata": {},
   "source": [
    "### Number of ping by device reparition, in all data"
   ]
  },
  {
   "cell_type": "code",
   "execution_count": 22,
   "id": "193f908a",
   "metadata": {},
   "outputs": [],
   "source": [
    "count_by_device = data.groupby(\"device_hash_id\").count()"
   ]
  },
  {
   "cell_type": "code",
   "execution_count": 23,
   "id": "b567837a",
   "metadata": {},
   "outputs": [
    {
     "data": {
      "image/png": "[encoded data removed]",
      "text/plain": [
       "<Figure size 1440x360 with 1 Axes>"
      ]
     },
     "metadata": {
      "needs_background": "light"
     },
     "output_type": "display_data"
    }
   ],
   "source": [
    "fig, ax = plt.subplots(figsize=(20, 5))\n",
    "sns.histplot(count_by_device[\"device_local_date\"], binrange=(0, 2292), ax=ax)\n",
    "ax.set(xlabel=\"Number of ping\", ylabel=\"Number of device that pinged this amount\")\n",
    "ax.set_yscale('log')\n",
    "# ax.set_xscale('log')\n",
    "plt.show()"
   ]
  },
  {
   "cell_type": "code",
   "execution_count": 24,
   "id": "d9f5aab2",
   "metadata": {},
   "outputs": [
    {
     "data": {
      "image/png": "[encoded data removed]",
      "text/plain": [
       "<Figure size 432x288 with 1 Axes>"
      ]
     },
     "metadata": {
      "needs_background": "light"
     },
     "output_type": "display_data"
    }
   ],
   "source": [
    "ax = sns.histplot(count_by_device[\"device_local_date\"], kde=True, log_scale=True)\n",
    "ax.set(xlabel=\"Number of ping\", ylabel=\"Number of device that pinged this amount\")\n",
    "plt.show()"
   ]
  },
  {
   "cell_type": "code",
   "execution_count": 25,
   "id": "f8e4d01a",
   "metadata": {},
   "outputs": [
    {
     "data": {
      "image/png": "[encoded data removed]",
      "text/plain": [
       "<Figure size 1440x360 with 1 Axes>"
      ]
     },
     "metadata": {
      "needs_background": "light"
     },
     "output_type": "display_data"
    }
   ],
   "source": [
    "fig, ax = plt.subplots(figsize=(20, 5))\n",
    "sns.boxplot(x=count_by_device[\"device_local_date\"], ax=ax)\n",
    "ax.set(xlabel=\"Number of ping\")\n",
    "ax.set_xscale('log')\n",
    "plt.show()"
   ]
  },
  {
   "cell_type": "markdown",
   "id": "f725832b",
   "metadata": {},
   "source": [
    "Conclusion:\n",
    "\n",
    "- Majority of device in the dataset pinged between 1 and 10 times (~4000 devices)\n",
    "- Some devices pinged between 10 and 100 times (~2000 devices)\n",
    "\n",
    "=> Some devices must be comming multiple days and pinging more. I need to check ping by day number to get real outliers"
   ]
  },
  {
   "cell_type": "markdown",
   "id": "5d070262",
   "metadata": {},
   "source": [
    "### Number of ping by device reparition, in one day"
   ]
  },
  {
   "cell_type": "code",
   "execution_count": 26,
   "id": "1e301aa6",
   "metadata": {},
   "outputs": [
    {
     "data": {
      "text/html": [
       "<div>\n",
       "<style scoped>\n",
       "    .dataframe tbody tr th:only-of-type {\n",
       "        vertical-align: middle;\n",
       "    }\n",
       "\n",
       "    .dataframe tbody tr th {\n",
       "        vertical-align: top;\n",
       "    }\n",
       "\n",
       "    .dataframe thead th {\n",
       "        text-align: right;\n",
       "    }\n",
       "</style>\n",
       "<table border=\"1\" class=\"dataframe\">\n",
       "  <thead>\n",
       "    <tr style=\"text-align: right;\">\n",
       "      <th></th>\n",
       "      <th>shopping_center_id</th>\n",
       "      <th>device_local_date</th>\n",
       "      <th>device_hash_id</th>\n",
       "      <th>ping_hour</th>\n",
       "      <th>ping_weekday</th>\n",
       "      <th>ping_day</th>\n",
       "    </tr>\n",
       "  </thead>\n",
       "  <tbody>\n",
       "    <tr>\n",
       "      <th>0</th>\n",
       "      <td>b43e9e4f</td>\n",
       "      <td>2019-09-14 10:00:25</td>\n",
       "      <td>6fdffac307</td>\n",
       "      <td>10</td>\n",
       "      <td>5</td>\n",
       "      <td>14</td>\n",
       "    </tr>\n",
       "    <tr>\n",
       "      <th>1</th>\n",
       "      <td>b43e9e4f</td>\n",
       "      <td>2019-09-14 17:13:15</td>\n",
       "      <td>386141ebd8</td>\n",
       "      <td>17</td>\n",
       "      <td>5</td>\n",
       "      <td>14</td>\n",
       "    </tr>\n",
       "    <tr>\n",
       "      <th>2</th>\n",
       "      <td>b43e9e4f</td>\n",
       "      <td>2019-09-14 09:07:06</td>\n",
       "      <td>b06242b848</td>\n",
       "      <td>9</td>\n",
       "      <td>5</td>\n",
       "      <td>14</td>\n",
       "    </tr>\n",
       "  </tbody>\n",
       "</table>\n",
       "</div>"
      ],
      "text/plain": [
       "  shopping_center_id   device_local_date device_hash_id  ping_hour  \\\n",
       "0           b43e9e4f 2019-09-14 10:00:25     6fdffac307         10   \n",
       "1           b43e9e4f 2019-09-14 17:13:15     386141ebd8         17   \n",
       "2           b43e9e4f 2019-09-14 09:07:06     b06242b848          9   \n",
       "\n",
       "   ping_weekday  ping_day  \n",
       "0             5        14  \n",
       "1             5        14  \n",
       "2             5        14  "
      ]
     },
     "execution_count": 26,
     "metadata": {},
     "output_type": "execute_result"
    }
   ],
   "source": [
    "data[\"ping_day\"] = data[\"device_local_date\"].dt.day\n",
    "data.head(3)"
   ]
  },
  {
   "cell_type": "code",
   "execution_count": 27,
   "id": "8c4f2f31",
   "metadata": {},
   "outputs": [
    {
     "data": {
      "text/plain": [
       "count    5702.000000\n",
       "mean        7.781121\n",
       "std        16.695411\n",
       "min         1.000000\n",
       "25%         1.500000\n",
       "50%         3.666667\n",
       "75%         8.000000\n",
       "max       622.000000\n",
       "Name: device_local_date, dtype: float64"
      ]
     },
     "execution_count": 27,
     "metadata": {},
     "output_type": "execute_result"
    }
   ],
   "source": [
    "meaned_ping_by_day_by_device = data.groupby(by=[\"device_hash_id\", \"ping_day\"], as_index=False).count().groupby(by=[\"device_hash_id\"]).mean()[\"device_local_date\"]\n",
    "meaned_ping_by_day_by_device.describe()"
   ]
  },
  {
   "cell_type": "code",
   "execution_count": 28,
   "id": "f7a7051f",
   "metadata": {},
   "outputs": [
    {
     "data": {
      "image/png": "[encoded data removed]",
      "text/plain": [
       "<Figure size 1440x360 with 1 Axes>"
      ]
     },
     "metadata": {
      "needs_background": "light"
     },
     "output_type": "display_data"
    }
   ],
   "source": [
    "fig, ax = plt.subplots(figsize=(20, 5))\n",
    "sns.histplot(meaned_ping_by_day_by_device, ax=ax)\n",
    "ax.set(xlabel=\"Number of ping\", ylabel=\"Number of device that pinged this amount\")\n",
    "ax.set_yscale('log')\n",
    "# ax.set_xscale('log')\n",
    "plt.show()"
   ]
  },
  {
   "cell_type": "code",
   "execution_count": 29,
   "id": "8c34df89",
   "metadata": {},
   "outputs": [
    {
     "data": {
      "image/png": "[encoded data removed]",
      "text/plain": [
       "<Figure size 432x288 with 1 Axes>"
      ]
     },
     "metadata": {
      "needs_background": "light"
     },
     "output_type": "display_data"
    }
   ],
   "source": [
    "ax = sns.histplot(meaned_ping_by_day_by_device, kde=True, log_scale=True)\n",
    "ax.set(xlabel=\"Meaned number of ping by day\", ylabel=\"Number of device that pinged this amount by day\")\n",
    "plt.show()"
   ]
  },
  {
   "cell_type": "code",
   "execution_count": 30,
   "id": "c512c38b",
   "metadata": {},
   "outputs": [
    {
     "data": {
      "image/png": "[encoded data removed]",
      "text/plain": [
       "<Figure size 1440x360 with 1 Axes>"
      ]
     },
     "metadata": {
      "needs_background": "light"
     },
     "output_type": "display_data"
    }
   ],
   "source": [
    "fig, ax = plt.subplots(figsize=(20, 5))\n",
    "sns.boxplot(x=meaned_ping_by_day_by_device, ax=ax)\n",
    "ax.set(xlabel=\"Number of ping\")\n",
    "ax.set_xscale('log')\n",
    "plt.show()"
   ]
  },
  {
   "cell_type": "markdown",
   "id": "e54ca69b",
   "metadata": {},
   "source": [
    "Conclusion:\n",
    "\n",
    "- Even by day, some devices ping way more than the others (over 100 ping in a day)"
   ]
  },
  {
   "cell_type": "markdown",
   "id": "4ffa9208",
   "metadata": {},
   "source": [
    "### Over 100 pinged by day"
   ]
  },
  {
   "cell_type": "code",
   "execution_count": 31,
   "id": "ad1d37d9",
   "metadata": {},
   "outputs": [
    {
     "data": {
      "text/plain": [
       "Index(['b2dd241bcc', '0f20ed1192', 'fa4acee13c', 'c0d915dfc1', 'c75717034a',\n",
       "       'a7d0146fde', '5ebbcbd43e', 'e3d538fc31', 'c46f21e7bf', '96737a4da8',\n",
       "       'cc65bafc80', 'c747eed40a', 'a80e18d995', '38d57c517f', 'af59285b12',\n",
       "       '1c9ef07ca5', '8145b84bf3', 'ed1714b467', '0ecc70ac85', '3e7cacf4c8',\n",
       "       'a1cb49c576'],\n",
       "      dtype='object', name='device_hash_id')"
      ]
     },
     "execution_count": 31,
     "metadata": {},
     "output_type": "execute_result"
    }
   ],
   "source": [
    "PING_LIMIT = 100\n",
    "\n",
    "outliers_devices = meaned_ping_by_day_by_device[meaned_ping_by_day_by_device > PING_LIMIT].sort_values(ascending=False).index\n",
    "outliers_devices"
   ]
  },
  {
   "cell_type": "code",
   "execution_count": 32,
   "id": "7649b1ca",
   "metadata": {},
   "outputs": [
    {
     "data": {
      "image/png": "[encoded data removed]",
      "text/plain": [
       "<Figure size 1512x864 with 28 Axes>"
      ]
     },
     "metadata": {
      "needs_background": "light"
     },
     "output_type": "display_data"
    }
   ],
   "source": [
    "outliers_only = data[data[\"device_hash_id\"].isin(outliers_devices)]\n",
    "plot_ping_in_time(outliers_only)\n",
    "plt.show()"
   ]
  },
  {
   "cell_type": "code",
   "execution_count": 33,
   "id": "0c224f57",
   "metadata": {},
   "outputs": [
    {
     "data": {
      "image/png": "[encoded data removed]",
      "text/plain": [
       "<Figure size 216x216 with 1 Axes>"
      ]
     },
     "metadata": {
      "needs_background": "light"
     },
     "output_type": "display_data"
    }
   ],
   "source": [
    "one_outlier = data[data[\"device_hash_id\"] == outliers_devices[0]]\n",
    "plot_ping_in_time(one_outlier)\n",
    "plt.show()"
   ]
  },
  {
   "cell_type": "code",
   "execution_count": 34,
   "id": "9ac63d7a",
   "metadata": {},
   "outputs": [
    {
     "data": {
      "text/html": [
       "<div>\n",
       "<style scoped>\n",
       "    .dataframe tbody tr th:only-of-type {\n",
       "        vertical-align: middle;\n",
       "    }\n",
       "\n",
       "    .dataframe tbody tr th {\n",
       "        vertical-align: top;\n",
       "    }\n",
       "\n",
       "    .dataframe thead th {\n",
       "        text-align: right;\n",
       "    }\n",
       "</style>\n",
       "<table border=\"1\" class=\"dataframe\">\n",
       "  <thead>\n",
       "    <tr style=\"text-align: right;\">\n",
       "      <th></th>\n",
       "      <th>shopping_center_id</th>\n",
       "      <th>device_local_date</th>\n",
       "      <th>device_hash_id</th>\n",
       "      <th>ping_hour</th>\n",
       "      <th>ping_weekday</th>\n",
       "      <th>ping_day</th>\n",
       "    </tr>\n",
       "  </thead>\n",
       "  <tbody>\n",
       "    <tr>\n",
       "      <th>31619</th>\n",
       "      <td>b43e9e4f</td>\n",
       "      <td>2019-09-17 19:35:01</td>\n",
       "      <td>b2dd241bcc</td>\n",
       "      <td>19</td>\n",
       "      <td>1</td>\n",
       "      <td>17</td>\n",
       "    </tr>\n",
       "    <tr>\n",
       "      <th>50440</th>\n",
       "      <td>b43e9e4f</td>\n",
       "      <td>2019-09-17 19:35:06</td>\n",
       "      <td>b2dd241bcc</td>\n",
       "      <td>19</td>\n",
       "      <td>1</td>\n",
       "      <td>17</td>\n",
       "    </tr>\n",
       "    <tr>\n",
       "      <th>25811</th>\n",
       "      <td>b43e9e4f</td>\n",
       "      <td>2019-09-17 19:35:11</td>\n",
       "      <td>b2dd241bcc</td>\n",
       "      <td>19</td>\n",
       "      <td>1</td>\n",
       "      <td>17</td>\n",
       "    </tr>\n",
       "    <tr>\n",
       "      <th>29794</th>\n",
       "      <td>b43e9e4f</td>\n",
       "      <td>2019-09-17 19:35:16</td>\n",
       "      <td>b2dd241bcc</td>\n",
       "      <td>19</td>\n",
       "      <td>1</td>\n",
       "      <td>17</td>\n",
       "    </tr>\n",
       "    <tr>\n",
       "      <th>25742</th>\n",
       "      <td>b43e9e4f</td>\n",
       "      <td>2019-09-17 19:35:21</td>\n",
       "      <td>b2dd241bcc</td>\n",
       "      <td>19</td>\n",
       "      <td>1</td>\n",
       "      <td>17</td>\n",
       "    </tr>\n",
       "    <tr>\n",
       "      <th>29440</th>\n",
       "      <td>b43e9e4f</td>\n",
       "      <td>2019-09-17 19:35:26</td>\n",
       "      <td>b2dd241bcc</td>\n",
       "      <td>19</td>\n",
       "      <td>1</td>\n",
       "      <td>17</td>\n",
       "    </tr>\n",
       "    <tr>\n",
       "      <th>46984</th>\n",
       "      <td>b43e9e4f</td>\n",
       "      <td>2019-09-17 19:35:31</td>\n",
       "      <td>b2dd241bcc</td>\n",
       "      <td>19</td>\n",
       "      <td>1</td>\n",
       "      <td>17</td>\n",
       "    </tr>\n",
       "    <tr>\n",
       "      <th>24029</th>\n",
       "      <td>b43e9e4f</td>\n",
       "      <td>2019-09-17 19:35:36</td>\n",
       "      <td>b2dd241bcc</td>\n",
       "      <td>19</td>\n",
       "      <td>1</td>\n",
       "      <td>17</td>\n",
       "    </tr>\n",
       "    <tr>\n",
       "      <th>28323</th>\n",
       "      <td>b43e9e4f</td>\n",
       "      <td>2019-09-17 19:35:41</td>\n",
       "      <td>b2dd241bcc</td>\n",
       "      <td>19</td>\n",
       "      <td>1</td>\n",
       "      <td>17</td>\n",
       "    </tr>\n",
       "    <tr>\n",
       "      <th>38</th>\n",
       "      <td>b43e9e4f</td>\n",
       "      <td>2019-09-17 19:35:46</td>\n",
       "      <td>b2dd241bcc</td>\n",
       "      <td>19</td>\n",
       "      <td>1</td>\n",
       "      <td>17</td>\n",
       "    </tr>\n",
       "    <tr>\n",
       "      <th>48266</th>\n",
       "      <td>b43e9e4f</td>\n",
       "      <td>2019-09-17 19:35:51</td>\n",
       "      <td>b2dd241bcc</td>\n",
       "      <td>19</td>\n",
       "      <td>1</td>\n",
       "      <td>17</td>\n",
       "    </tr>\n",
       "    <tr>\n",
       "      <th>22863</th>\n",
       "      <td>b43e9e4f</td>\n",
       "      <td>2019-09-17 19:35:56</td>\n",
       "      <td>b2dd241bcc</td>\n",
       "      <td>19</td>\n",
       "      <td>1</td>\n",
       "      <td>17</td>\n",
       "    </tr>\n",
       "    <tr>\n",
       "      <th>46643</th>\n",
       "      <td>b43e9e4f</td>\n",
       "      <td>2019-09-17 19:36:01</td>\n",
       "      <td>b2dd241bcc</td>\n",
       "      <td>19</td>\n",
       "      <td>1</td>\n",
       "      <td>17</td>\n",
       "    </tr>\n",
       "    <tr>\n",
       "      <th>22320</th>\n",
       "      <td>b43e9e4f</td>\n",
       "      <td>2019-09-17 19:36:06</td>\n",
       "      <td>b2dd241bcc</td>\n",
       "      <td>19</td>\n",
       "      <td>1</td>\n",
       "      <td>17</td>\n",
       "    </tr>\n",
       "    <tr>\n",
       "      <th>50459</th>\n",
       "      <td>b43e9e4f</td>\n",
       "      <td>2019-09-17 19:36:11</td>\n",
       "      <td>b2dd241bcc</td>\n",
       "      <td>19</td>\n",
       "      <td>1</td>\n",
       "      <td>17</td>\n",
       "    </tr>\n",
       "  </tbody>\n",
       "</table>\n",
       "</div>"
      ],
      "text/plain": [
       "      shopping_center_id   device_local_date device_hash_id  ping_hour  \\\n",
       "31619           b43e9e4f 2019-09-17 19:35:01     b2dd241bcc         19   \n",
       "50440           b43e9e4f 2019-09-17 19:35:06     b2dd241bcc         19   \n",
       "25811           b43e9e4f 2019-09-17 19:35:11     b2dd241bcc         19   \n",
       "29794           b43e9e4f 2019-09-17 19:35:16     b2dd241bcc         19   \n",
       "25742           b43e9e4f 2019-09-17 19:35:21     b2dd241bcc         19   \n",
       "29440           b43e9e4f 2019-09-17 19:35:26     b2dd241bcc         19   \n",
       "46984           b43e9e4f 2019-09-17 19:35:31     b2dd241bcc         19   \n",
       "24029           b43e9e4f 2019-09-17 19:35:36     b2dd241bcc         19   \n",
       "28323           b43e9e4f 2019-09-17 19:35:41     b2dd241bcc         19   \n",
       "38              b43e9e4f 2019-09-17 19:35:46     b2dd241bcc         19   \n",
       "48266           b43e9e4f 2019-09-17 19:35:51     b2dd241bcc         19   \n",
       "22863           b43e9e4f 2019-09-17 19:35:56     b2dd241bcc         19   \n",
       "46643           b43e9e4f 2019-09-17 19:36:01     b2dd241bcc         19   \n",
       "22320           b43e9e4f 2019-09-17 19:36:06     b2dd241bcc         19   \n",
       "50459           b43e9e4f 2019-09-17 19:36:11     b2dd241bcc         19   \n",
       "\n",
       "       ping_weekday  ping_day  \n",
       "31619             1        17  \n",
       "50440             1        17  \n",
       "25811             1        17  \n",
       "29794             1        17  \n",
       "25742             1        17  \n",
       "29440             1        17  \n",
       "46984             1        17  \n",
       "24029             1        17  \n",
       "28323             1        17  \n",
       "38                1        17  \n",
       "48266             1        17  \n",
       "22863             1        17  \n",
       "46643             1        17  \n",
       "22320             1        17  \n",
       "50459             1        17  "
      ]
     },
     "execution_count": 34,
     "metadata": {},
     "output_type": "execute_result"
    }
   ],
   "source": [
    "one_outlier.sort_values(by=\"device_local_date\", ascending=True).head(15)"
   ]
  },
  {
   "cell_type": "markdown",
   "id": "1efb62a0",
   "metadata": {},
   "source": [
    "Conclusion:\n",
    "\n",
    "- Device `b2dd241bcc` pinged every 5 seconds for ~1 hour\n",
    "- I think this is not a normal behavior ?\n",
    "\n",
    "=> I should study the ping frequency by day"
   ]
  },
  {
   "cell_type": "code",
   "execution_count": 35,
   "id": "c23f1c50",
   "metadata": {},
   "outputs": [
    {
     "data": {
      "image/png": "[encoded data removed]",
      "text/plain": [
       "<Figure size 1080x216 with 5 Axes>"
      ]
     },
     "metadata": {
      "needs_background": "light"
     },
     "output_type": "display_data"
    }
   ],
   "source": [
    "one_outlier = data[data[\"device_hash_id\"] == outliers_devices[3]]\n",
    "plot_ping_in_time(one_outlier)\n",
    "plt.show()"
   ]
  },
  {
   "cell_type": "markdown",
   "id": "b76a7d9c",
   "metadata": {},
   "source": [
    "Conclusion:\n",
    "\n",
    "- I tihink Outliers are pinging a lot because of their ping frequency and not because it's a device always in the shopping center\n",
    "\n",
    "=> I should get unique device number by slice of x minutes (30 ?)"
   ]
  },
  {
   "cell_type": "markdown",
   "id": "6dc33c5d",
   "metadata": {},
   "source": [
    "## Unique device by slice"
   ]
  },
  {
   "cell_type": "code",
   "execution_count": 36,
   "id": "38b94482",
   "metadata": {},
   "outputs": [
    {
     "data": {
      "text/html": [
       "<div>\n",
       "<style scoped>\n",
       "    .dataframe tbody tr th:only-of-type {\n",
       "        vertical-align: middle;\n",
       "    }\n",
       "\n",
       "    .dataframe tbody tr th {\n",
       "        vertical-align: top;\n",
       "    }\n",
       "\n",
       "    .dataframe thead th {\n",
       "        text-align: right;\n",
       "    }\n",
       "</style>\n",
       "<table border=\"1\" class=\"dataframe\">\n",
       "  <thead>\n",
       "    <tr style=\"text-align: right;\">\n",
       "      <th></th>\n",
       "      <th>shopping_center_id</th>\n",
       "      <th>device_local_date</th>\n",
       "      <th>device_hash_id</th>\n",
       "      <th>ping_hour</th>\n",
       "      <th>ping_weekday</th>\n",
       "      <th>ping_day</th>\n",
       "      <th>slice_id</th>\n",
       "    </tr>\n",
       "  </thead>\n",
       "  <tbody>\n",
       "    <tr>\n",
       "      <th>27452</th>\n",
       "      <td>599cb959</td>\n",
       "      <td>2019-09-09 00:07:22</td>\n",
       "      <td>b106b982ef</td>\n",
       "      <td>0</td>\n",
       "      <td>0</td>\n",
       "      <td>9</td>\n",
       "      <td>0</td>\n",
       "    </tr>\n",
       "    <tr>\n",
       "      <th>28084</th>\n",
       "      <td>599cb959</td>\n",
       "      <td>2019-09-09 00:17:45</td>\n",
       "      <td>b106b982ef</td>\n",
       "      <td>0</td>\n",
       "      <td>0</td>\n",
       "      <td>9</td>\n",
       "      <td>0</td>\n",
       "    </tr>\n",
       "    <tr>\n",
       "      <th>43861</th>\n",
       "      <td>599cb959</td>\n",
       "      <td>2019-09-16 00:32:34</td>\n",
       "      <td>b106b982ef</td>\n",
       "      <td>0</td>\n",
       "      <td>0</td>\n",
       "      <td>16</td>\n",
       "      <td>1</td>\n",
       "    </tr>\n",
       "    <tr>\n",
       "      <th>26617</th>\n",
       "      <td>b43e9e4f</td>\n",
       "      <td>2019-09-09 00:45:05</td>\n",
       "      <td>160d8cc355</td>\n",
       "      <td>0</td>\n",
       "      <td>0</td>\n",
       "      <td>9</td>\n",
       "      <td>1</td>\n",
       "    </tr>\n",
       "    <tr>\n",
       "      <th>34064</th>\n",
       "      <td>599cb959</td>\n",
       "      <td>2019-09-16 00:51:58</td>\n",
       "      <td>db3b15425d</td>\n",
       "      <td>0</td>\n",
       "      <td>0</td>\n",
       "      <td>16</td>\n",
       "      <td>1</td>\n",
       "    </tr>\n",
       "    <tr>\n",
       "      <th>29715</th>\n",
       "      <td>b43e9e4f</td>\n",
       "      <td>2019-09-09 00:45:51</td>\n",
       "      <td>160d8cc355</td>\n",
       "      <td>0</td>\n",
       "      <td>0</td>\n",
       "      <td>9</td>\n",
       "      <td>1</td>\n",
       "    </tr>\n",
       "    <tr>\n",
       "      <th>60679</th>\n",
       "      <td>599cb959</td>\n",
       "      <td>2019-09-16 00:52:40</td>\n",
       "      <td>db3b15425d</td>\n",
       "      <td>0</td>\n",
       "      <td>0</td>\n",
       "      <td>16</td>\n",
       "      <td>1</td>\n",
       "    </tr>\n",
       "    <tr>\n",
       "      <th>28197</th>\n",
       "      <td>599cb959</td>\n",
       "      <td>2019-09-16 00:53:22</td>\n",
       "      <td>db3b15425d</td>\n",
       "      <td>0</td>\n",
       "      <td>0</td>\n",
       "      <td>16</td>\n",
       "      <td>1</td>\n",
       "    </tr>\n",
       "    <tr>\n",
       "      <th>43384</th>\n",
       "      <td>599cb959</td>\n",
       "      <td>2019-09-16 00:40:32</td>\n",
       "      <td>b106b982ef</td>\n",
       "      <td>0</td>\n",
       "      <td>0</td>\n",
       "      <td>16</td>\n",
       "      <td>1</td>\n",
       "    </tr>\n",
       "    <tr>\n",
       "      <th>42479</th>\n",
       "      <td>b43e9e4f</td>\n",
       "      <td>2019-09-09 00:43:17</td>\n",
       "      <td>160d8cc355</td>\n",
       "      <td>0</td>\n",
       "      <td>0</td>\n",
       "      <td>9</td>\n",
       "      <td>1</td>\n",
       "    </tr>\n",
       "  </tbody>\n",
       "</table>\n",
       "</div>"
      ],
      "text/plain": [
       "      shopping_center_id   device_local_date device_hash_id  ping_hour  \\\n",
       "27452           599cb959 2019-09-09 00:07:22     b106b982ef          0   \n",
       "28084           599cb959 2019-09-09 00:17:45     b106b982ef          0   \n",
       "43861           599cb959 2019-09-16 00:32:34     b106b982ef          0   \n",
       "26617           b43e9e4f 2019-09-09 00:45:05     160d8cc355          0   \n",
       "34064           599cb959 2019-09-16 00:51:58     db3b15425d          0   \n",
       "29715           b43e9e4f 2019-09-09 00:45:51     160d8cc355          0   \n",
       "60679           599cb959 2019-09-16 00:52:40     db3b15425d          0   \n",
       "28197           599cb959 2019-09-16 00:53:22     db3b15425d          0   \n",
       "43384           599cb959 2019-09-16 00:40:32     b106b982ef          0   \n",
       "42479           b43e9e4f 2019-09-09 00:43:17     160d8cc355          0   \n",
       "\n",
       "       ping_weekday  ping_day  slice_id  \n",
       "27452             0         9         0  \n",
       "28084             0         9         0  \n",
       "43861             0        16         1  \n",
       "26617             0         9         1  \n",
       "34064             0        16         1  \n",
       "29715             0         9         1  \n",
       "60679             0        16         1  \n",
       "28197             0        16         1  \n",
       "43384             0        16         1  \n",
       "42479             0         9         1  "
      ]
     },
     "execution_count": 36,
     "metadata": {},
     "output_type": "execute_result"
    }
   ],
   "source": [
    "# Slice length in minute\n",
    "slice_len = 30\n",
    "\n",
    "data[\"slice_id\"] = data[\"device_local_date\"].apply(lambda t: (t.weekday() * 3600 + t.hour * 60 + t.minute) // slice_len)\n",
    "data.sort_values(by=\"slice_id\", ascending=True).head(10)"
   ]
  },
  {
   "cell_type": "code",
   "execution_count": 37,
   "id": "a73da9f2",
   "metadata": {},
   "outputs": [
    {
     "data": {
      "text/html": [
       "<div>\n",
       "<style scoped>\n",
       "    .dataframe tbody tr th:only-of-type {\n",
       "        vertical-align: middle;\n",
       "    }\n",
       "\n",
       "    .dataframe tbody tr th {\n",
       "        vertical-align: top;\n",
       "    }\n",
       "\n",
       "    .dataframe thead th {\n",
       "        text-align: right;\n",
       "    }\n",
       "</style>\n",
       "<table border=\"1\" class=\"dataframe\">\n",
       "  <thead>\n",
       "    <tr style=\"text-align: right;\">\n",
       "      <th></th>\n",
       "      <th>shopping_center_id</th>\n",
       "      <th>device_local_date</th>\n",
       "      <th>device_hash_id</th>\n",
       "      <th>ping_hour</th>\n",
       "      <th>ping_weekday</th>\n",
       "      <th>ping_day</th>\n",
       "      <th>slice_id</th>\n",
       "    </tr>\n",
       "  </thead>\n",
       "  <tbody>\n",
       "    <tr>\n",
       "      <th>27452</th>\n",
       "      <td>599cb959</td>\n",
       "      <td>2019-09-09 00:07:22</td>\n",
       "      <td>b106b982ef</td>\n",
       "      <td>0</td>\n",
       "      <td>0</td>\n",
       "      <td>9</td>\n",
       "      <td>0</td>\n",
       "    </tr>\n",
       "    <tr>\n",
       "      <th>43384</th>\n",
       "      <td>599cb959</td>\n",
       "      <td>2019-09-16 00:40:32</td>\n",
       "      <td>b106b982ef</td>\n",
       "      <td>0</td>\n",
       "      <td>0</td>\n",
       "      <td>16</td>\n",
       "      <td>1</td>\n",
       "    </tr>\n",
       "    <tr>\n",
       "      <th>26617</th>\n",
       "      <td>b43e9e4f</td>\n",
       "      <td>2019-09-09 00:45:05</td>\n",
       "      <td>160d8cc355</td>\n",
       "      <td>0</td>\n",
       "      <td>0</td>\n",
       "      <td>9</td>\n",
       "      <td>1</td>\n",
       "    </tr>\n",
       "    <tr>\n",
       "      <th>28197</th>\n",
       "      <td>599cb959</td>\n",
       "      <td>2019-09-16 00:53:22</td>\n",
       "      <td>db3b15425d</td>\n",
       "      <td>0</td>\n",
       "      <td>0</td>\n",
       "      <td>16</td>\n",
       "      <td>1</td>\n",
       "    </tr>\n",
       "    <tr>\n",
       "      <th>37187</th>\n",
       "      <td>599cb959</td>\n",
       "      <td>2019-09-02 02:18:50</td>\n",
       "      <td>e05686dece</td>\n",
       "      <td>2</td>\n",
       "      <td>0</td>\n",
       "      <td>2</td>\n",
       "      <td>4</td>\n",
       "    </tr>\n",
       "    <tr>\n",
       "      <th>122</th>\n",
       "      <td>599cb959</td>\n",
       "      <td>2019-09-02 02:38:48</td>\n",
       "      <td>e05686dece</td>\n",
       "      <td>2</td>\n",
       "      <td>0</td>\n",
       "      <td>2</td>\n",
       "      <td>5</td>\n",
       "    </tr>\n",
       "    <tr>\n",
       "      <th>63902</th>\n",
       "      <td>599cb959</td>\n",
       "      <td>2019-09-02 03:11:04</td>\n",
       "      <td>e05686dece</td>\n",
       "      <td>3</td>\n",
       "      <td>0</td>\n",
       "      <td>2</td>\n",
       "      <td>6</td>\n",
       "    </tr>\n",
       "    <tr>\n",
       "      <th>3913</th>\n",
       "      <td>b43e9e4f</td>\n",
       "      <td>2019-09-02 03:59:21</td>\n",
       "      <td>a1cb49c576</td>\n",
       "      <td>3</td>\n",
       "      <td>0</td>\n",
       "      <td>2</td>\n",
       "      <td>7</td>\n",
       "    </tr>\n",
       "    <tr>\n",
       "      <th>14809</th>\n",
       "      <td>b43e9e4f</td>\n",
       "      <td>2019-09-16 03:33:27</td>\n",
       "      <td>4d3b8306e8</td>\n",
       "      <td>3</td>\n",
       "      <td>0</td>\n",
       "      <td>16</td>\n",
       "      <td>7</td>\n",
       "    </tr>\n",
       "    <tr>\n",
       "      <th>179</th>\n",
       "      <td>599cb959</td>\n",
       "      <td>2019-09-02 03:31:05</td>\n",
       "      <td>e05686dece</td>\n",
       "      <td>3</td>\n",
       "      <td>0</td>\n",
       "      <td>2</td>\n",
       "      <td>7</td>\n",
       "    </tr>\n",
       "  </tbody>\n",
       "</table>\n",
       "</div>"
      ],
      "text/plain": [
       "      shopping_center_id   device_local_date device_hash_id  ping_hour  \\\n",
       "27452           599cb959 2019-09-09 00:07:22     b106b982ef          0   \n",
       "43384           599cb959 2019-09-16 00:40:32     b106b982ef          0   \n",
       "26617           b43e9e4f 2019-09-09 00:45:05     160d8cc355          0   \n",
       "28197           599cb959 2019-09-16 00:53:22     db3b15425d          0   \n",
       "37187           599cb959 2019-09-02 02:18:50     e05686dece          2   \n",
       "122             599cb959 2019-09-02 02:38:48     e05686dece          2   \n",
       "63902           599cb959 2019-09-02 03:11:04     e05686dece          3   \n",
       "3913            b43e9e4f 2019-09-02 03:59:21     a1cb49c576          3   \n",
       "14809           b43e9e4f 2019-09-16 03:33:27     4d3b8306e8          3   \n",
       "179             599cb959 2019-09-02 03:31:05     e05686dece          3   \n",
       "\n",
       "       ping_weekday  ping_day  slice_id  \n",
       "27452             0         9         0  \n",
       "43384             0        16         1  \n",
       "26617             0         9         1  \n",
       "28197             0        16         1  \n",
       "37187             0         2         4  \n",
       "122               0         2         5  \n",
       "63902             0         2         6  \n",
       "3913              0         2         7  \n",
       "14809             0        16         7  \n",
       "179               0         2         7  "
      ]
     },
     "execution_count": 37,
     "metadata": {},
     "output_type": "execute_result"
    }
   ],
   "source": [
    "# One device per slice\n",
    "unique_device_by_slice = data.drop_duplicates(subset=[\"shopping_center_id\", \"slice_id\", \"device_hash_id\"])\n",
    "unique_device_by_slice.sort_values(by=\"slice_id\", ascending=True).head(10)"
   ]
  },
  {
   "cell_type": "code",
   "execution_count": 38,
   "id": "4fe0a0ee",
   "metadata": {},
   "outputs": [
    {
     "data": {
      "image/png": "[encoded data removed]",
      "text/plain": [
       "<Figure size 1512x864 with 28 Axes>"
      ]
     },
     "metadata": {
      "needs_background": "light"
     },
     "output_type": "display_data"
    }
   ],
   "source": [
    "plot_ping_in_time(unique_device_by_slice)\n",
    "# plt.title(f\"Number of ping (with max 1 ping by device by slice of {slice_len} minutes\")\n",
    "plt.show()"
   ]
  },
  {
   "cell_type": "markdown",
   "id": "a5e31aee",
   "metadata": {},
   "source": [
    "Conclusion:\n",
    "\n",
    "- I think that looks better than the first one. Some spikes have been removed\n",
    "- The max number of ping in one hour is around 250 and not 1000"
   ]
  }
 ],
 "metadata": {
  "kernelspec": {
   "display_name": "Python 3",
   "language": "python",
   "name": "python3"
  },
  "language_info": {
   "codemirror_mode": {
    "name": "ipython",
    "version": 3
   },
   "file_extension": ".py",
   "mimetype": "text/x-python",
   "name": "python",
   "nbconvert_exporter": "python",
   "pygments_lexer": "ipython3",
   "version": "3.8.5"
  }
 },
 "nbformat": 4,
 "nbformat_minor": 5
}
